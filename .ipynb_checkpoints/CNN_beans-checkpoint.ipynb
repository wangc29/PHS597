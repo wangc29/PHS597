{
 "cells": [
  {
   "cell_type": "markdown",
   "metadata": {},
   "source": [
    "## Prepare data"
   ]
  },
  {
   "cell_type": "code",
   "execution_count": 1,
   "metadata": {},
   "outputs": [],
   "source": [
    "import tensorflow as tf\n",
    "import tensorflow.keras as keras\n",
    "import numpy as np"
   ]
  },
  {
   "cell_type": "code",
   "execution_count": 2,
   "metadata": {},
   "outputs": [],
   "source": [
    "import tensorflow_datasets as tfds"
   ]
  },
  {
   "cell_type": "code",
   "execution_count": 3,
   "metadata": {},
   "outputs": [],
   "source": [
    "from keras import models\n",
    "from keras import layers"
   ]
  },
  {
   "cell_type": "code",
   "execution_count": 4,
   "metadata": {},
   "outputs": [],
   "source": [
    "test_image, test_label = tfds.as_numpy(tfds.load(\n",
    "    'beans',\n",
    "    split='test',\n",
    "    batch_size=-1,\n",
    "    as_supervised=True\n",
    "))\n",
    "\n",
    "train_image, train_label = tfds.as_numpy(tfds.load(\n",
    "    'beans',\n",
    "    split='train',\n",
    "    batch_size=-1,\n",
    "    as_supervised=True,\n",
    "))"
   ]
  },
  {
   "cell_type": "code",
   "execution_count": 5,
   "metadata": {},
   "outputs": [],
   "source": [
    "train_image = train_image.astype('float32')/255\n",
    "test_image = test_image.astype('float32')/255"
   ]
  },
  {
   "cell_type": "markdown",
   "metadata": {},
   "source": [
    "## Model setup"
   ]
  },
  {
   "cell_type": "code",
   "execution_count": 6,
   "metadata": {},
   "outputs": [],
   "source": [
    "model = models.Sequential()\n",
    "model.add(layers.Conv2D(filters=15,input_shape=(500,500,3),\n",
    "                        kernel_size=(10,10),strides=(2,2),padding=\"same\",activation = 'relu'))\n",
    "model.add(layers.MaxPooling2D(pool_size=(2,2),strides=(4,4),padding=\"valid\"))\n",
    "model.add(layers.Dropout(0.25))\n",
    "model.add(layers.Conv2D(filters=15,kernel_size=(10,10),\n",
    "                        strides=(2,2),padding=\"same\",activation = 'relu'))\n",
    "model.add(layers.MaxPooling2D(pool_size=(2,2),strides=(4,4),padding=\"valid\"))\n",
    "model.add(layers.Dropout(0.25))\n",
    "model.add(layers.Flatten())\n",
    "model.add(layers.Dense(128,activation='relu'))\n",
    "model.add(layers.Dense(3,activation='softmax'))"
   ]
  },
  {
   "cell_type": "code",
   "execution_count": 7,
   "metadata": {},
   "outputs": [
    {
     "name": "stdout",
     "output_type": "stream",
     "text": [
      "Model: \"sequential\"\n",
      "_________________________________________________________________\n",
      "Layer (type)                 Output Shape              Param #   \n",
      "=================================================================\n",
      "conv2d (Conv2D)              (None, 250, 250, 15)      4515      \n",
      "_________________________________________________________________\n",
      "max_pooling2d (MaxPooling2D) (None, 63, 63, 15)        0         \n",
      "_________________________________________________________________\n",
      "dropout (Dropout)            (None, 63, 63, 15)        0         \n",
      "_________________________________________________________________\n",
      "conv2d_1 (Conv2D)            (None, 32, 32, 15)        22515     \n",
      "_________________________________________________________________\n",
      "max_pooling2d_1 (MaxPooling2 (None, 8, 8, 15)          0         \n",
      "_________________________________________________________________\n",
      "dropout_1 (Dropout)          (None, 8, 8, 15)          0         \n",
      "_________________________________________________________________\n",
      "flatten (Flatten)            (None, 960)               0         \n",
      "_________________________________________________________________\n",
      "dense (Dense)                (None, 128)               123008    \n",
      "_________________________________________________________________\n",
      "dense_1 (Dense)              (None, 3)                 387       \n",
      "=================================================================\n",
      "Total params: 150,425\n",
      "Trainable params: 150,425\n",
      "Non-trainable params: 0\n",
      "_________________________________________________________________\n"
     ]
    }
   ],
   "source": [
    "model.summary()"
   ]
  },
  {
   "cell_type": "code",
   "execution_count": 8,
   "metadata": {},
   "outputs": [],
   "source": [
    "model.compile(\n",
    "    loss = 'sparse_categorical_crossentropy',\n",
    "    #optimizer = \"rmsprop\",\n",
    "    optimizer=keras.optimizers.Adam(0.001),\n",
    "    metrics = ['accuracy'],\n",
    ")"
   ]
  },
  {
   "cell_type": "code",
   "execution_count": 9,
   "metadata": {},
   "outputs": [
    {
     "name": "stdout",
     "output_type": "stream",
     "text": [
      "Epoch 1/20\n",
      "33/33 [==============================] - 76s 2s/step - loss: 1.1163 - accuracy: 0.3242\n",
      "Epoch 2/20\n",
      "33/33 [==============================] - 72s 2s/step - loss: 1.0025 - accuracy: 0.5013\n",
      "Epoch 3/20\n",
      "33/33 [==============================] - 72s 2s/step - loss: 0.9014 - accuracy: 0.5837\n",
      "Epoch 4/20\n",
      "33/33 [==============================] - 72s 2s/step - loss: 0.8359 - accuracy: 0.6426\n",
      "Epoch 5/20\n",
      "33/33 [==============================] - 73s 2s/step - loss: 0.8248 - accuracy: 0.6245\n",
      "Epoch 6/20\n",
      "33/33 [==============================] - 74s 2s/step - loss: 0.8002 - accuracy: 0.6287\n",
      "Epoch 7/20\n",
      "33/33 [==============================] - 73s 2s/step - loss: 0.7414 - accuracy: 0.6739\n",
      "Epoch 8/20\n",
      "33/33 [==============================] - 72s 2s/step - loss: 0.6742 - accuracy: 0.6853\n",
      "Epoch 9/20\n",
      "33/33 [==============================] - 72s 2s/step - loss: 0.6174 - accuracy: 0.7401\n",
      "Epoch 10/20\n",
      "33/33 [==============================] - 72s 2s/step - loss: 0.6112 - accuracy: 0.7482\n",
      "Epoch 11/20\n",
      "33/33 [==============================] - 72s 2s/step - loss: 0.6169 - accuracy: 0.7186\n",
      "Epoch 12/20\n",
      "33/33 [==============================] - 73s 2s/step - loss: 0.4996 - accuracy: 0.7911\n",
      "Epoch 13/20\n",
      "33/33 [==============================] - 73s 2s/step - loss: 0.4875 - accuracy: 0.7957\n",
      "Epoch 14/20\n",
      "33/33 [==============================] - 73s 2s/step - loss: 0.4411 - accuracy: 0.8236\n",
      "Epoch 15/20\n",
      "33/33 [==============================] - 72s 2s/step - loss: 0.4014 - accuracy: 0.8339\n",
      "Epoch 16/20\n",
      "33/33 [==============================] - 75s 2s/step - loss: 0.3967 - accuracy: 0.8433\n",
      "Epoch 17/20\n",
      "33/33 [==============================] - 73s 2s/step - loss: 0.3859 - accuracy: 0.8429\n",
      "Epoch 18/20\n",
      "33/33 [==============================] - 73s 2s/step - loss: 0.3491 - accuracy: 0.8511\n",
      "Epoch 19/20\n",
      "33/33 [==============================] - 72s 2s/step - loss: 0.3005 - accuracy: 0.8838\n",
      "Epoch 20/20\n",
      "33/33 [==============================] - 72s 2s/step - loss: 0.4226 - accuracy: 0.8454\n"
     ]
    },
    {
     "data": {
      "text/plain": [
       "<tensorflow.python.keras.callbacks.History at 0x7fdca0160310>"
      ]
     },
     "execution_count": 9,
     "metadata": {},
     "output_type": "execute_result"
    }
   ],
   "source": [
    "num_epochs = 20\n",
    "model.fit(train_image, train_label, epochs=20)"
   ]
  },
  {
   "cell_type": "code",
   "execution_count": 10,
   "metadata": {},
   "outputs": [
    {
     "name": "stdout",
     "output_type": "stream",
     "text": [
      "4/4 [==============================] - 7s 2s/step - loss: 0.6737 - accuracy: 0.8125\n"
     ]
    }
   ],
   "source": [
    "test_loss, test_acc = model.evaluate(test_image, test_label)"
   ]
  },
  {
   "cell_type": "code",
   "execution_count": null,
   "metadata": {},
   "outputs": [],
   "source": []
  }
 ],
 "metadata": {
  "kernelspec": {
   "display_name": "Python 3",
   "language": "python",
   "name": "python3"
  },
  "language_info": {
   "codemirror_mode": {
    "name": "ipython",
    "version": 3
   },
   "file_extension": ".py",
   "mimetype": "text/x-python",
   "name": "python",
   "nbconvert_exporter": "python",
   "pygments_lexer": "ipython3",
   "version": "3.8.8"
  }
 },
 "nbformat": 4,
 "nbformat_minor": 4
}
